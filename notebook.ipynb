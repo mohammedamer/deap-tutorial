{
 "cells": [
  {
   "cell_type": "code",
   "execution_count": 1,
   "metadata": {},
   "outputs": [],
   "source": [
    "import array\n",
    "from numpy import random\n",
    "\n",
    "import numpy as np\n",
    "\n",
    "%matplotlib inline\n",
    "import matplotlib.pyplot as plt\n",
    "import matplotlib.animation as animation\n",
    "from matplotlib import rc\n",
    "\n",
    "rc('animation', embed_limit=30)\n",
    "rc('animation', html='jshtml')\n",
    "\n",
    "from deap import algorithms\n",
    "from deap import base\n",
    "from deap import benchmarks\n",
    "from deap import creator\n",
    "from deap import tools"
   ]
  },
  {
   "cell_type": "code",
   "execution_count": 2,
   "metadata": {},
   "outputs": [],
   "source": [
    "X_START = -4\n",
    "X_END = 4\n",
    "X_STEP = 0.5\n",
    "\n",
    "def unknown(x):\n",
    "    \n",
    "    return 1.3*x + 1.9*x**2 - 4.2*x**3 + 5.0\n",
    "\n",
    "X = np.array([x for x in np.arange(X_START, X_END, X_STEP)])\n",
    "\n",
    "def sample(inputs):\n",
    "    return np.array([unknown(inp) + random.normal(5.) for inp in inputs])"
   ]
  },
  {
   "cell_type": "code",
   "execution_count": 3,
   "metadata": {},
   "outputs": [],
   "source": [
    "# observations\n",
    "\n",
    "Y = sample(X)\n",
    "\n",
    "data = list(zip(X, Y))"
   ]
  },
  {
   "cell_type": "code",
   "execution_count": 4,
   "metadata": {},
   "outputs": [],
   "source": [
    "# some constants\n",
    "\n",
    "IND_SIZE = 5\n",
    "NGEN = 100"
   ]
  },
  {
   "cell_type": "code",
   "execution_count": 5,
   "metadata": {},
   "outputs": [],
   "source": [
    "# datatypes def\n",
    "\n",
    "creator.create(\"FitnessMin\", base.Fitness, weights=(-1.0,))\n",
    "creator.create(\"Individual\", array.array, typecode=\"d\", fitness=creator.FitnessMin, strategy=None)\n",
    "creator.create(\"Strategy\", array.array, typecode=\"d\")"
   ]
  },
  {
   "cell_type": "code",
   "execution_count": 6,
   "metadata": {},
   "outputs": [],
   "source": [
    "# register functions\n",
    "\n",
    "# Individual generator\n",
    "def generateES(ind_cls, strg_cls, size):\n",
    "    ind = ind_cls(random.normal() for _ in range(size))\n",
    "    ind.strategy = strg_cls(random.normal() for _ in range(size))\n",
    "    return ind\n",
    "\n",
    "toolbox = base.Toolbox()\n",
    "\n",
    "# generation functions\n",
    "toolbox.register(\"individual\", generateES, creator.Individual, creator.Strategy,\n",
    "    IND_SIZE)\n",
    "toolbox.register(\"population\", tools.initRepeat, list, toolbox.individual)\n",
    "\n",
    "# evolutionary ops\n",
    "toolbox.register(\"mate\", tools.cxESBlend, alpha=0.1)\n",
    "toolbox.register(\"mutate\", tools.mutESLogNormal, c=1.0, indpb=0.3)\n",
    "toolbox.register(\"select\", tools.selTournament, tournsize=3)\n",
    "\n",
    "def pred(ind, x):\n",
    "    \n",
    "    y_ = 0.0\n",
    "    \n",
    "    for i in range(1,IND_SIZE):\n",
    "        y_ += ind[i-1]*x**i\n",
    "    \n",
    "    y_ += ind[IND_SIZE-1]\n",
    "       \n",
    "    return y_\n",
    "\n",
    "def fitness(ind, data):\n",
    "    \n",
    "    mse = 0.0\n",
    "    \n",
    "    for x, y in data:\n",
    "        \n",
    "        y_ = pred(ind, x)\n",
    "        mse += (y - y_)**2\n",
    "        \n",
    "    return mse/len(data),\n",
    "\n",
    "# fitness eval\n",
    "toolbox.register(\"evaluate\", fitness, data=data)"
   ]
  },
  {
   "cell_type": "code",
   "execution_count": 7,
   "metadata": {},
   "outputs": [],
   "source": [
    "# ES params\n",
    "MU, LAMBDA = 10, 100\n",
    "\n",
    "# register some statistics\n",
    "\n",
    "stats = tools.Statistics(lambda ind: ind.fitness.values)\n",
    "stats.register(\"avg\", np.mean)\n",
    "stats.register(\"std\", np.std)\n",
    "stats.register(\"min\", np.min)\n",
    "stats.register(\"max\", np.max)"
   ]
  },
  {
   "cell_type": "code",
   "execution_count": 8,
   "metadata": {},
   "outputs": [],
   "source": [
    "# evolve and animate\n",
    "\n",
    "def evolve_animate():\n",
    "    \n",
    "    random.seed()\n",
    "    \n",
    "    # init population\n",
    "    pop = toolbox.population(n=MU)\n",
    "\n",
    "    hof = tools.HallOfFame(1)\n",
    "    \n",
    "    fig = plt.figure()\n",
    "    \n",
    "    ax = fig.add_subplot(1, 1, 1)\n",
    "    \n",
    "    ax.set_xlabel('x')\n",
    "    ax.set_ylabel('y')\n",
    "    \n",
    "    ax.scatter(X, Y, color='g')\n",
    "    line, = ax.plot(X, np.zeros(Y.shape))\n",
    "\n",
    "    def update(best_ind):\n",
    "        \n",
    "        Y_ = np.array([pred(best_ind, x) for x in X])\n",
    "        \n",
    "        line.set_ydata(Y_)\n",
    "        \n",
    "        return line,\n",
    "    \n",
    "    def init():\n",
    "        \n",
    "        return update(pop[0])\n",
    "    \n",
    "    def animate(i):\n",
    "        \n",
    "        ax.set_title('Gen: {}'.format(i+1))\n",
    "        \n",
    "        nonlocal pop\n",
    "        \n",
    "        pop, logbook = algorithms.eaMuCommaLambda(pop, toolbox, mu=MU, lambda_=LAMBDA, \n",
    "            cxpb=0.6, mutpb=0.3, ngen=1, stats=stats, halloffame=hof, verbose=False)\n",
    "        \n",
    "        best_ind = hof[0]\n",
    "        \n",
    "        return update(best_ind)\n",
    "\n",
    "    ani = animation.FuncAnimation(fig, animate, np.arange(NGEN), init_func=None,\n",
    "                                  interval=5, blit=True)\n",
    "    return ani"
   ]
  },
  {
   "cell_type": "code",
   "execution_count": 9,
   "metadata": {},
   "outputs": [
    {
     "data": {
      "image/png": "[encoded data removed]",
      "text/plain": [
       "<Figure size 432x288 with 1 Axes>"
      ]
     },
     "metadata": {},
     "output_type": "display_data"
    }
   ],
   "source": [
    "ani = evolve_animate()"
   ]
  },
  {
   "cell_type": "code",
   "execution_count": 10,
   "metadata": {},
   "outputs": [],
   "source": [
    "ani.save('evo-ani.gif', writer='imagemagick', fps=20)"
   ]
  },
  {
   "cell_type": "code",
   "execution_count": null,
   "metadata": {},
   "outputs": [],
   "source": []
  }
 ],
 "metadata": {
  "kernelspec": {
   "display_name": "Python (dl)",
   "language": "python",
   "name": "dl"
  },
  "language_info": {
   "codemirror_mode": {
    "name": "ipython",
    "version": 3
   },
   "file_extension": ".py",
   "mimetype": "text/x-python",
   "name": "python",
   "nbconvert_exporter": "python",
   "pygments_lexer": "ipython3",
   "version": "3.6.7"
  }
 },
 "nbformat": 4,
 "nbformat_minor": 2
}
